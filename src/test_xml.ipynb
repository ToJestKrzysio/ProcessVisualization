{
 "cells": [
  {
   "cell_type": "code",
   "execution_count": 2,
   "metadata": {
    "collapsed": true
   },
   "outputs": [],
   "source": [
    "from xml.dom import minidom\n",
    "import xml.etree.cElementTree as ET"
   ]
  },
  {
   "cell_type": "markdown",
   "metadata": {
    "pycharm": {
     "name": "#%% md\n"
    }
   },
   "source": [
    "  Tags found in XML"
   ]
  },
  {
   "cell_type": "code",
   "execution_count": 3,
   "metadata": {
    "pycharm": {
     "name": "#%%\n"
    }
   },
   "outputs": [],
   "source": [
    "file_path = \"../examples/01_Obsluga_zgloszen.xml\"\n",
    "tree = ET.parse(file_path)\n",
    "root = tree.getroot()"
   ]
  },
  {
   "cell_type": "code",
   "execution_count": 53,
   "metadata": {
    "pycharm": {
     "name": "#%%\n"
    }
   },
   "outputs": [],
   "source": [
    "def get_tag_dict(element: ET.Element) -> dict[str, int]:\n",
    "  return {child.tag.split(\"}\")[-1]: idx for idx, child in enumerate(element)}\n",
    "\n",
    "\n",
    "def print_children(element: ET.Element) -> None:\n",
    "  for item in element:\n",
    "    print(\"-\"*50, \"\\n\", item.tag)"
   ]
  },
  {
   "cell_type": "code",
   "execution_count": 45,
   "metadata": {
    "pycharm": {
     "name": "#%%\n"
    }
   },
   "outputs": [],
   "source": [
    "tags = get_tag_dict(root)\n",
    "try:\n",
    "  diagram = root[tags[\"BPMNDiagram\"]]\n",
    "except KeyError:\n",
    "  raise KeyError(\"XML file misses 'BPMNDiagram' tag\")"
   ]
  },
  {
   "cell_type": "code",
   "execution_count": 48,
   "metadata": {
    "pycharm": {
     "name": "#%%\n"
    }
   },
   "outputs": [],
   "source": [
    "tags = get_tag_dict(diagram)\n",
    "\n",
    "try:\n",
    "  plane = diagram[tags[\"BPMNPlane\"]]\n",
    "except KeyError:\n",
    "  raise KeyError(\"XML file misses 'BPMNPlane' tag\")\n"
   ]
  },
  {
   "cell_type": "code",
   "execution_count": 51,
   "metadata": {
    "pycharm": {
     "name": "#%%\n"
    }
   },
   "outputs": [
    {
     "name": "stdout",
     "output_type": "stream",
     "text": [
      "-------------------------------------------------- \n",
      " {http://www.omg.org/spec/BPMN/20100524/DI}BPMNShape\n",
      "-------------------------------------------------- \n",
      " {http://www.omg.org/spec/BPMN/20100524/DI}BPMNShape\n",
      "-------------------------------------------------- \n",
      " {http://www.omg.org/spec/BPMN/20100524/DI}BPMNShape\n",
      "-------------------------------------------------- \n",
      " {http://www.omg.org/spec/BPMN/20100524/DI}BPMNShape\n",
      "-------------------------------------------------- \n",
      " {http://www.omg.org/spec/BPMN/20100524/DI}BPMNShape\n",
      "-------------------------------------------------- \n",
      " {http://www.omg.org/spec/BPMN/20100524/DI}BPMNShape\n",
      "-------------------------------------------------- \n",
      " {http://www.omg.org/spec/BPMN/20100524/DI}BPMNShape\n",
      "-------------------------------------------------- \n",
      " {http://www.omg.org/spec/BPMN/20100524/DI}BPMNShape\n",
      "-------------------------------------------------- \n",
      " {http://www.omg.org/spec/BPMN/20100524/DI}BPMNShape\n",
      "-------------------------------------------------- \n",
      " {http://www.omg.org/spec/BPMN/20100524/DI}BPMNShape\n",
      "-------------------------------------------------- \n",
      " {http://www.omg.org/spec/BPMN/20100524/DI}BPMNShape\n",
      "-------------------------------------------------- \n",
      " {http://www.omg.org/spec/BPMN/20100524/DI}BPMNShape\n",
      "-------------------------------------------------- \n",
      " {http://www.omg.org/spec/BPMN/20100524/DI}BPMNShape\n",
      "-------------------------------------------------- \n",
      " {http://www.omg.org/spec/BPMN/20100524/DI}BPMNShape\n",
      "-------------------------------------------------- \n",
      " {http://www.omg.org/spec/BPMN/20100524/DI}BPMNShape\n",
      "-------------------------------------------------- \n",
      " {http://www.omg.org/spec/BPMN/20100524/DI}BPMNEdge\n",
      "-------------------------------------------------- \n",
      " {http://www.omg.org/spec/BPMN/20100524/DI}BPMNEdge\n",
      "-------------------------------------------------- \n",
      " {http://www.omg.org/spec/BPMN/20100524/DI}BPMNEdge\n",
      "-------------------------------------------------- \n",
      " {http://www.omg.org/spec/BPMN/20100524/DI}BPMNEdge\n",
      "-------------------------------------------------- \n",
      " {http://www.omg.org/spec/BPMN/20100524/DI}BPMNEdge\n",
      "-------------------------------------------------- \n",
      " {http://www.omg.org/spec/BPMN/20100524/DI}BPMNEdge\n",
      "-------------------------------------------------- \n",
      " {http://www.omg.org/spec/BPMN/20100524/DI}BPMNEdge\n",
      "-------------------------------------------------- \n",
      " {http://www.omg.org/spec/BPMN/20100524/DI}BPMNEdge\n",
      "-------------------------------------------------- \n",
      " {http://www.omg.org/spec/BPMN/20100524/DI}BPMNEdge\n",
      "-------------------------------------------------- \n",
      " {http://www.omg.org/spec/BPMN/20100524/DI}BPMNEdge\n",
      "-------------------------------------------------- \n",
      " {http://www.omg.org/spec/BPMN/20100524/DI}BPMNEdge\n",
      "-------------------------------------------------- \n",
      " {http://www.omg.org/spec/BPMN/20100524/DI}BPMNEdge\n",
      "-------------------------------------------------- \n",
      " {http://www.omg.org/spec/BPMN/20100524/DI}BPMNEdge\n"
     ]
    }
   ],
   "source": [
    "print_children(plane)"
   ]
  },
  {
   "cell_type": "code",
   "execution_count": null,
   "metadata": {
    "pycharm": {
     "name": "#%%\n",
     "is_executing": true
    }
   },
   "outputs": [
    {
     "name": "stdout",
     "output_type": "stream",
     "text": [
      "ERROR! Session/line number was not unique in database. History logging moved to new session 171\n"
     ]
    }
   ],
   "source": [
    "from bpmn_python.bpmn_diagram_rep import BpmnDiagramGraph\n",
    "\n",
    "bpnm_diagram = BpmnDiagramGraph()\n",
    "bpnm_diagram.load_diagram_from_xml_file(\"../examples/01_Obsluga_zgloszen.bpmn\")"
   ]
  },
  {
   "cell_type": "code",
   "execution_count": 1,
   "metadata": {
    "pycharm": {
     "name": "#%%\n"
    }
   },
   "outputs": [
    {
     "ename": "NameError",
     "evalue": "name 'bpnm_diagram' is not defined",
     "output_type": "error",
     "traceback": [
      "\u001B[0;31m---------------------------------------------------------------------------\u001B[0m",
      "\u001B[0;31mNameError\u001B[0m                                 Traceback (most recent call last)",
      "\u001B[0;32m/tmp/ipykernel_41803/902806131.py\u001B[0m in \u001B[0;36m<module>\u001B[0;34m\u001B[0m\n\u001B[0;32m----> 1\u001B[0;31m \u001B[0mbpnm_diagram\u001B[0m\u001B[0;34m\u001B[0m\u001B[0;34m\u001B[0m\u001B[0m\n\u001B[0m\u001B[1;32m      2\u001B[0m \u001B[0;34m\u001B[0m\u001B[0m\n",
      "\u001B[0;31mNameError\u001B[0m: name 'bpnm_diagram' is not defined"
     ]
    }
   ],
   "source": [
    "bpnm_diagram\n"
   ]
  },
  {
   "cell_type": "code",
   "execution_count": null,
   "metadata": {
    "pycharm": {
     "name": "#%%\n"
    }
   },
   "outputs": [],
   "source": []
  }
 ],
 "metadata": {
  "kernelspec": {
   "display_name": "Python 3 (ipykernel)",
   "language": "python",
   "name": "python3"
  },
  "language_info": {
   "codemirror_mode": {
    "name": "ipython",
    "version": 3
   },
   "file_extension": ".py",
   "mimetype": "text/x-python",
   "name": "python",
   "nbconvert_exporter": "python",
   "pygments_lexer": "ipython3",
   "version": "3.10.1"
  }
 },
 "nbformat": 4,
 "nbformat_minor": 1
}