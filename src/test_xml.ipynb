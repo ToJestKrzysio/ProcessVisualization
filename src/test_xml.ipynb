{
 "cells": [
  {
   "cell_type": "code",
   "execution_count": 7,
   "metadata": {
    "collapsed": true
   },
   "outputs": [],
   "source": [
    "from xml.dom import minidom\n",
    "import xml.etree.cElementTree as ET"
   ]
  },
  {
   "cell_type": "markdown",
   "source": [
    "  Tags found in XML"
   ],
   "metadata": {
    "collapsed": false,
    "pycharm": {
     "name": "#%% md\n"
    }
   }
  },
  {
   "cell_type": "code",
   "execution_count": 11,
   "outputs": [],
   "source": [
    "file_path = \"../examples/01_Obsluga_zgloszen.xml\"\n",
    "tree = ET.parse(file_path)\n",
    "root = tree.getroot()"
   ],
   "metadata": {
    "collapsed": false,
    "pycharm": {
     "name": "#%%\n"
    }
   }
  },
  {
   "cell_type": "code",
   "execution_count": 53,
   "outputs": [],
   "source": [
    "def get_tag_dict(element: ET.Element) -> dict[str, int]:\n",
    "  return {child.tag.split(\"}\")[-1]: idx for idx, child in enumerate(element)}\n",
    "\n",
    "\n",
    "def print_children(element: ET.Element) -> None:\n",
    "  for item in element:\n",
    "    print(\"-\"*50, \"\\n\", item.tag)"
   ],
   "metadata": {
    "collapsed": false,
    "pycharm": {
     "name": "#%%\n"
    }
   }
  },
  {
   "cell_type": "code",
   "execution_count": 45,
   "outputs": [],
   "source": [
    "tags = get_tag_dict(root)\n",
    "try:\n",
    "  diagram = root[tags[\"BPMNDiagram\"]]\n",
    "except KeyError:\n",
    "  raise KeyError(\"XML file misses 'BPMNDiagram' tag\")"
   ],
   "metadata": {
    "collapsed": false,
    "pycharm": {
     "name": "#%%\n"
    }
   }
  },
  {
   "cell_type": "code",
   "execution_count": 48,
   "outputs": [],
   "source": [
    "tags = get_tag_dict(diagram)\n",
    "\n",
    "try:\n",
    "  plane = diagram[tags[\"BPMNPlane\"]]\n",
    "except KeyError:\n",
    "  raise KeyError(\"XML file misses 'BPMNPlane' tag\")\n"
   ],
   "metadata": {
    "collapsed": false,
    "pycharm": {
     "name": "#%%\n"
    }
   }
  },
  {
   "cell_type": "code",
   "execution_count": 51,
   "outputs": [
    {
     "name": "stdout",
     "output_type": "stream",
     "text": [
      "-------------------------------------------------- \n",
      " {http://www.omg.org/spec/BPMN/20100524/DI}BPMNShape\n",
      "-------------------------------------------------- \n",
      " {http://www.omg.org/spec/BPMN/20100524/DI}BPMNShape\n",
      "-------------------------------------------------- \n",
      " {http://www.omg.org/spec/BPMN/20100524/DI}BPMNShape\n",
      "-------------------------------------------------- \n",
      " {http://www.omg.org/spec/BPMN/20100524/DI}BPMNShape\n",
      "-------------------------------------------------- \n",
      " {http://www.omg.org/spec/BPMN/20100524/DI}BPMNShape\n",
      "-------------------------------------------------- \n",
      " {http://www.omg.org/spec/BPMN/20100524/DI}BPMNShape\n",
      "-------------------------------------------------- \n",
      " {http://www.omg.org/spec/BPMN/20100524/DI}BPMNShape\n",
      "-------------------------------------------------- \n",
      " {http://www.omg.org/spec/BPMN/20100524/DI}BPMNShape\n",
      "-------------------------------------------------- \n",
      " {http://www.omg.org/spec/BPMN/20100524/DI}BPMNShape\n",
      "-------------------------------------------------- \n",
      " {http://www.omg.org/spec/BPMN/20100524/DI}BPMNShape\n",
      "-------------------------------------------------- \n",
      " {http://www.omg.org/spec/BPMN/20100524/DI}BPMNShape\n",
      "-------------------------------------------------- \n",
      " {http://www.omg.org/spec/BPMN/20100524/DI}BPMNShape\n",
      "-------------------------------------------------- \n",
      " {http://www.omg.org/spec/BPMN/20100524/DI}BPMNShape\n",
      "-------------------------------------------------- \n",
      " {http://www.omg.org/spec/BPMN/20100524/DI}BPMNShape\n",
      "-------------------------------------------------- \n",
      " {http://www.omg.org/spec/BPMN/20100524/DI}BPMNShape\n",
      "-------------------------------------------------- \n",
      " {http://www.omg.org/spec/BPMN/20100524/DI}BPMNEdge\n",
      "-------------------------------------------------- \n",
      " {http://www.omg.org/spec/BPMN/20100524/DI}BPMNEdge\n",
      "-------------------------------------------------- \n",
      " {http://www.omg.org/spec/BPMN/20100524/DI}BPMNEdge\n",
      "-------------------------------------------------- \n",
      " {http://www.omg.org/spec/BPMN/20100524/DI}BPMNEdge\n",
      "-------------------------------------------------- \n",
      " {http://www.omg.org/spec/BPMN/20100524/DI}BPMNEdge\n",
      "-------------------------------------------------- \n",
      " {http://www.omg.org/spec/BPMN/20100524/DI}BPMNEdge\n",
      "-------------------------------------------------- \n",
      " {http://www.omg.org/spec/BPMN/20100524/DI}BPMNEdge\n",
      "-------------------------------------------------- \n",
      " {http://www.omg.org/spec/BPMN/20100524/DI}BPMNEdge\n",
      "-------------------------------------------------- \n",
      " {http://www.omg.org/spec/BPMN/20100524/DI}BPMNEdge\n",
      "-------------------------------------------------- \n",
      " {http://www.omg.org/spec/BPMN/20100524/DI}BPMNEdge\n",
      "-------------------------------------------------- \n",
      " {http://www.omg.org/spec/BPMN/20100524/DI}BPMNEdge\n",
      "-------------------------------------------------- \n",
      " {http://www.omg.org/spec/BPMN/20100524/DI}BPMNEdge\n",
      "-------------------------------------------------- \n",
      " {http://www.omg.org/spec/BPMN/20100524/DI}BPMNEdge\n"
     ]
    }
   ],
   "source": [
    "print_children(plane)\n"
   ],
   "metadata": {
    "collapsed": false,
    "pycharm": {
     "name": "#%%\n"
    }
   }
  }
 ],
 "metadata": {
  "kernelspec": {
   "display_name": "Python 3",
   "language": "python",
   "name": "python3"
  },
  "language_info": {
   "codemirror_mode": {
    "name": "ipython",
    "version": 2
   },
   "file_extension": ".py",
   "mimetype": "text/x-python",
   "name": "python",
   "nbconvert_exporter": "python",
   "pygments_lexer": "ipython2",
   "version": "2.7.6"
  }
 },
 "nbformat": 4,
 "nbformat_minor": 0
}